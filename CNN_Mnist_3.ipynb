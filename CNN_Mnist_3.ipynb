{
  "nbformat": 4,
  "nbformat_minor": 0,
  "metadata": {
    "colab": {
      "provenance": [],
      "toc_visible": true,
      "gpuType": "T4",
      "include_colab_link": true
    },
    "kernelspec": {
      "name": "python3",
      "display_name": "Python 3"
    },
    "language_info": {
      "name": "python"
    },
    "accelerator": "GPU"
  },
  "cells": [
    {
      "cell_type": "markdown",
      "metadata": {
        "id": "view-in-github",
        "colab_type": "text"
      },
      "source": [
        "<a href=\"https://colab.research.google.com/github/hwan2-99/machine_learning_subject/blob/main/CNN_Mnist_3.ipynb\" target=\"_parent\"><img src=\"https://colab.research.google.com/assets/colab-badge.svg\" alt=\"Open In Colab\"/></a>"
      ]
    },
    {
      "cell_type": "markdown",
      "source": [
        " CNN을 적용한 Mnist 손글씨 인식 모델 - 데이터 증강"
      ],
      "metadata": {
        "id": "WLgOM4rYzbsd"
      }
    },
    {
      "cell_type": "markdown",
      "source": [
        "seed값 설정 및 데이터 불러오기"
      ],
      "metadata": {
        "id": "HdkmOjk50X6F"
      }
    },
    {
      "cell_type": "code",
      "source": [
        "from keras.datasets import mnist\n",
        "from keras.utils import np_utils\n",
        "from keras.models import Sequential\n",
        "from keras.layers import Dense, Dropout, Flatten, Conv2D, MaxPooling2D\n",
        "from keras.callbacks import ModelCheckpoint, EarlyStopping\n",
        "from keras.preprocessing.image import ImageDataGenerator\n",
        "import matplotlib.pyplot as plt\n",
        "import numpy as np\n",
        "import os\n",
        "import tensorflow as tf\n",
        "\n",
        "seed = 0\n",
        "np.random.seed(seed)\n",
        "tf.random.set_seed(3)\n",
        "\n",
        "(X_train, Y_train), (X_test, Y_test) = mnist.load_data()\n",
        "X_train = X_train.reshape(X_train.shape[0], 28, 28, 1).astype('float32') / 255\n",
        "X_test = X_test.reshape(X_test.shape[0], 28, 28, 1).astype('float32') / 255\n",
        "Y_train = np_utils.to_categorical(Y_train)\n",
        "Y_test = np_utils.to_categorical(Y_test)\n"
      ],
      "metadata": {
        "id": "McNQezhn0UfW",
        "colab": {
          "base_uri": "https://localhost:8080/"
        },
        "outputId": "9ca8fba8-df15-4c5f-eb13-d800bc0e8322"
      },
      "execution_count": 2,
      "outputs": [
        {
          "output_type": "stream",
          "name": "stdout",
          "text": [
            "Downloading data from https://storage.googleapis.com/tensorflow/tf-keras-datasets/mnist.npz\n",
            "11490434/11490434 [==============================] - 0s 0us/step\n"
          ]
        }
      ]
    },
    {
      "cell_type": "markdown",
      "source": [
        "컨볼루션 신경망 설정"
      ],
      "metadata": {
        "id": "f1mYKHK-0e-D"
      }
    },
    {
      "cell_type": "code",
      "source": [
        "model = Sequential()\n",
        "model.add(Conv2D(32, kernel_size=(3, 3), input_shape=(28, 28, 1), activation='relu'))\n",
        "model.add(Conv2D(64, (3, 3), activation='relu'))\n",
        "model.add(MaxPooling2D(pool_size=2))\n",
        "model.add(Dropout(0.25))\n",
        "model.add(Flatten())\n",
        "model.add(Dense(128, activation='relu'))\n",
        "model.add(Dropout(0.5))\n",
        "model.add(Dense(10, activation='softmax'))\n",
        "\n",
        "model.compile(loss='categorical_crossentropy', optimizer='adam', metrics=['accuracy'])\n"
      ],
      "metadata": {
        "id": "VtpD3w9R0iFr"
      },
      "execution_count": 3,
      "outputs": []
    },
    {
      "cell_type": "markdown",
      "source": [
        "모델 최적화 설정"
      ],
      "metadata": {
        "id": "jgiZSt5h0nir"
      }
    },
    {
      "cell_type": "code",
      "source": [
        "MODEL_DIR = './model/'\n",
        "if not os.path.exists(MODEL_DIR):\n",
        "    os.mkdir(MODEL_DIR)\n",
        "\n",
        "modelpath = './model/{epoch:02d}-{val_loss:.4f}.hdf5'\n",
        "checkpointer = ModelCheckpoint(filepath=modelpath, monitor='val_loss', verbose=1, save_best_only=True)\n",
        "early_stopping_callback = EarlyStopping(monitor='val_loss', patience=10)\n",
        "datagen = ImageDataGenerator(\n",
        "    rotation_range=10,\n",
        "    width_shift_range=0.1,\n",
        "    height_shift_range=0.1,\n",
        "    shear_range=0.3,\n",
        "    zoom_range=0.1\n",
        ")"
      ],
      "metadata": {
        "id": "PLtDe1MS0p0r"
      },
      "execution_count": 4,
      "outputs": []
    },
    {
      "cell_type": "markdown",
      "source": [
        "모델의 실행"
      ],
      "metadata": {
        "id": "2pxeQidd0v96"
      }
    },
    {
      "cell_type": "code",
      "source": [
        "history = model.fit(datagen.flow(X_train, Y_train, batch_size=200),\n",
        "                    steps_per_epoch=len(X_train) / 200,\n",
        "                    validation_data=(X_test, Y_test),\n",
        "                    epochs=30,\n",
        "                    verbose=0,\n",
        "                    callbacks=[early_stopping_callback, checkpointer])"
      ],
      "metadata": {
        "colab": {
          "base_uri": "https://localhost:8080/"
        },
        "id": "BGIs1wl60xz7",
        "outputId": "a6d5b53a-af40-4efa-8960-a5d68e707757"
      },
      "execution_count": 5,
      "outputs": [
        {
          "output_type": "stream",
          "name": "stdout",
          "text": [
            "\n",
            "Epoch 1: val_loss improved from inf to 0.05581, saving model to ./model/01-0.0558.hdf5\n",
            "\n",
            "Epoch 2: val_loss improved from 0.05581 to 0.03985, saving model to ./model/02-0.0398.hdf5\n",
            "\n",
            "Epoch 3: val_loss improved from 0.03985 to 0.03934, saving model to ./model/03-0.0393.hdf5\n",
            "\n",
            "Epoch 4: val_loss improved from 0.03934 to 0.03278, saving model to ./model/04-0.0328.hdf5\n",
            "\n",
            "Epoch 5: val_loss did not improve from 0.03278\n",
            "\n",
            "Epoch 6: val_loss improved from 0.03278 to 0.02841, saving model to ./model/06-0.0284.hdf5\n",
            "\n",
            "Epoch 7: val_loss did not improve from 0.02841\n",
            "\n",
            "Epoch 8: val_loss improved from 0.02841 to 0.02759, saving model to ./model/08-0.0276.hdf5\n",
            "\n",
            "Epoch 9: val_loss improved from 0.02759 to 0.02322, saving model to ./model/09-0.0232.hdf5\n",
            "\n",
            "Epoch 10: val_loss improved from 0.02322 to 0.02176, saving model to ./model/10-0.0218.hdf5\n",
            "\n",
            "Epoch 11: val_loss improved from 0.02176 to 0.02117, saving model to ./model/11-0.0212.hdf5\n",
            "\n",
            "Epoch 12: val_loss did not improve from 0.02117\n",
            "\n",
            "Epoch 13: val_loss improved from 0.02117 to 0.01962, saving model to ./model/13-0.0196.hdf5\n",
            "\n",
            "Epoch 14: val_loss did not improve from 0.01962\n",
            "\n",
            "Epoch 15: val_loss improved from 0.01962 to 0.01949, saving model to ./model/15-0.0195.hdf5\n",
            "\n",
            "Epoch 16: val_loss improved from 0.01949 to 0.01833, saving model to ./model/16-0.0183.hdf5\n",
            "\n",
            "Epoch 17: val_loss did not improve from 0.01833\n",
            "\n",
            "Epoch 18: val_loss improved from 0.01833 to 0.01661, saving model to ./model/18-0.0166.hdf5\n",
            "\n",
            "Epoch 19: val_loss did not improve from 0.01661\n",
            "\n",
            "Epoch 20: val_loss did not improve from 0.01661\n",
            "\n",
            "Epoch 21: val_loss did not improve from 0.01661\n",
            "\n",
            "Epoch 22: val_loss did not improve from 0.01661\n",
            "\n",
            "Epoch 23: val_loss did not improve from 0.01661\n",
            "\n",
            "Epoch 24: val_loss did not improve from 0.01661\n",
            "\n",
            "Epoch 25: val_loss improved from 0.01661 to 0.01592, saving model to ./model/25-0.0159.hdf5\n",
            "\n",
            "Epoch 26: val_loss did not improve from 0.01592\n",
            "\n",
            "Epoch 27: val_loss did not improve from 0.01592\n",
            "\n",
            "Epoch 28: val_loss did not improve from 0.01592\n",
            "\n",
            "Epoch 29: val_loss did not improve from 0.01592\n",
            "\n",
            "Epoch 30: val_loss did not improve from 0.01592\n"
          ]
        }
      ]
    },
    {
      "cell_type": "markdown",
      "source": [
        "테스트 정확도 출력"
      ],
      "metadata": {
        "id": "ZcYIXz4-1LNb"
      }
    },
    {
      "cell_type": "code",
      "source": [
        "print(\"\\n Test Accuracy: %.4f\" % (model.evaluate(X_test, Y_test)[1]))"
      ],
      "metadata": {
        "colab": {
          "base_uri": "https://localhost:8080/"
        },
        "id": "KYXDuatl1NVj",
        "outputId": "81e793e9-76da-4c9e-c270-389be2cd723e"
      },
      "execution_count": 6,
      "outputs": [
        {
          "output_type": "stream",
          "name": "stdout",
          "text": [
            "313/313 [==============================] - 1s 3ms/step - loss: 0.0161 - accuracy: 0.9944\n",
            "\n",
            " Test Accuracy: 0.9944\n"
          ]
        }
      ]
    },
    {
      "cell_type": "markdown",
      "source": [
        "인식 정확도 = 99.44%"
      ],
      "metadata": {
        "id": "kQMmwvRw1Y77"
      }
    },
    {
      "cell_type": "markdown",
      "source": [
        "오차 그래프로 출력"
      ],
      "metadata": {
        "id": "9BLPX48T3Yuz"
      }
    },
    {
      "cell_type": "code",
      "source": [
        "y_vloss = history.history['val_loss']\n",
        "y_loss = history.history['loss']\n",
        "x_len = np.arange(len(y_loss))\n",
        "plt.plot(x_len, y_vloss, marker='.', c=\"red\", label='Testset_loss')\n",
        "plt.plot(x_len, y_loss, marker='.', c=\"blue\", label='Trainset_loss')\n",
        "plt.legend(loc='upper right')\n",
        "plt.grid()\n",
        "plt.xlabel('epoch')\n",
        "plt.ylabel('loss')\n",
        "plt.show()"
      ],
      "metadata": {
        "colab": {
          "base_uri": "https://localhost:8080/",
          "height": 449
        },
        "id": "ZGw8zfra3evs",
        "outputId": "e316d6d8-1ca2-4ae4-b589-0831065a6143"
      },
      "execution_count": null,
      "outputs": [
        {
          "output_type": "display_data",
          "data": {
            "text/plain": [
              "<Figure size 640x480 with 1 Axes>"
            ],
            "image/png": "[encoded data removed]"
          },
          "metadata": {}
        }
      ]
    }
  ]
}