{
  "nbformat": 4,
  "nbformat_minor": 0,
  "metadata": {
    "colab": {
      "provenance": [],
      "toc_visible": true,
      "gpuType": "T4",
      "include_colab_link": true
    },
    "kernelspec": {
      "name": "python3",
      "display_name": "Python 3"
    },
    "language_info": {
      "name": "python"
    },
    "accelerator": "GPU"
  },
  "cells": [
    {
      "cell_type": "markdown",
      "metadata": {
        "id": "view-in-github",
        "colab_type": "text"
      },
      "source": [
        "<a href=\"https://colab.research.google.com/github/hwan2-99/machine_learning_subject/blob/main/CNN_Mnist_1.ipynb\" target=\"_parent\"><img src=\"https://colab.research.google.com/assets/colab-badge.svg\" alt=\"Open In Colab\"/></a>"
      ]
    },
    {
      "cell_type": "markdown",
      "source": [
        " CNN을 적용한 Mnist 손글씨 인식 모델 - 네트워크 구조 변경"
      ],
      "metadata": {
        "id": "WLgOM4rYzbsd"
      }
    },
    {
      "cell_type": "markdown",
      "source": [
        "seed값 설정 및 데이터 불러오기"
      ],
      "metadata": {
        "id": "HdkmOjk50X6F"
      }
    },
    {
      "cell_type": "code",
      "source": [
        "from keras.datasets import mnist\n",
        "from keras.utils import np_utils\n",
        "from keras.models import Sequential\n",
        "from keras.layers import Dense, Dropout, Flatten, Conv2D,MaxPooling2D\n",
        "from keras.callbacks import ModelCheckpoint, EarlyStopping\n",
        "import matplotlib.pyplot as plt\n",
        "import numpy\n",
        "import os\n",
        "import tensorflow as tf\n",
        "\n",
        "seed = 0\n",
        "numpy.random.seed(seed)\n",
        "tf.random.set_seed(3)\n",
        "\n",
        "(X_train, Y_train), (X_test, Y_test) = mnist.load_data()\n",
        "X_train = X_train.reshape(X_train.shape[0],28,28,1).astype('float32') / 255\n",
        "X_test = X_test.reshape(X_test.shape[0],28,28,1).astype('float32') / 255\n",
        "Y_train = np_utils.to_categorical(Y_train)\n",
        "Y_test = np_utils.to_categorical(Y_test)"
      ],
      "metadata": {
        "id": "McNQezhn0UfW",
        "colab": {
          "base_uri": "https://localhost:8080/"
        },
        "outputId": "4576a41a-0c24-491b-a6b3-2c63d941bcbe"
      },
      "execution_count": 1,
      "outputs": [
        {
          "output_type": "stream",
          "name": "stdout",
          "text": [
            "Downloading data from https://storage.googleapis.com/tensorflow/tf-keras-datasets/mnist.npz\n",
            "11490434/11490434 [==============================] - 0s 0us/step\n"
          ]
        }
      ]
    },
    {
      "cell_type": "markdown",
      "source": [
        "컨볼루션 신경망 설정\n",
        "더 깊거나 넓은 CNN 모델을 사용 - 더 많은 합성곱 층을 추가하고 더 많은 뉴런을 포함하는 밀집 층"
      ],
      "metadata": {
        "id": "f1mYKHK-0e-D"
      }
    },
    {
      "cell_type": "code",
      "source": [
        "model = Sequential()\n",
        "model.add(Conv2D(32, kernel_size=(3, 3), input_shape=(28, 28, 1), activation='relu'))\n",
        "model.add(Conv2D(64, (3, 3), activation='relu'))\n",
        "model.add(MaxPooling2D(pool_size=2))\n",
        "model.add(Dropout(0.25))\n",
        "model.add(Conv2D(128, (3, 3), activation='relu'))  # 추가된 합성곱 층\n",
        "model.add(MaxPooling2D(pool_size=2))\n",
        "model.add(Dropout(0.25))\n",
        "model.add(Flatten())\n",
        "model.add(Dense(256, activation='relu'))  # 더 넓은 밀집 층\n",
        "model.add(Dropout(0.5))\n",
        "model.add(Dense(10, activation='softmax'))\n",
        "\n",
        "model.compile(loss='categorical_crossentropy', optimizer='adam', metrics=['accuracy'])"
      ],
      "metadata": {
        "id": "VtpD3w9R0iFr"
      },
      "execution_count": 2,
      "outputs": []
    },
    {
      "cell_type": "markdown",
      "source": [
        "모델 최적화 설정"
      ],
      "metadata": {
        "id": "jgiZSt5h0nir"
      }
    },
    {
      "cell_type": "code",
      "source": [
        "MODEL_DIR = './model/'\n",
        "if not os.path.exists(MODEL_DIR):\n",
        "    os.mkdir(MODEL_DIR)\n",
        "    \n",
        "modelpath='./model/{epoch:02d}-{val_loss:.4f}.hdf5'\n",
        "checkpointer = ModelCheckpoint(filepath=modelpath, monitor = 'val_loss', verbose=1, save_best_only=True)\n",
        "early_stopping_callback = EarlyStopping(monitor='val_loss', patience=10)"
      ],
      "metadata": {
        "id": "PLtDe1MS0p0r"
      },
      "execution_count": 3,
      "outputs": []
    },
    {
      "cell_type": "markdown",
      "source": [
        "모델의 실행"
      ],
      "metadata": {
        "id": "2pxeQidd0v96"
      }
    },
    {
      "cell_type": "code",
      "source": [
        "history = model.fit(X_train, Y_train, validation_data=(X_test , Y_test), epochs=30, batch_size = 200, verbose = 0, callbacks=[early_stopping_callback,checkpointer])"
      ],
      "metadata": {
        "colab": {
          "base_uri": "https://localhost:8080/"
        },
        "id": "BGIs1wl60xz7",
        "outputId": "66962a19-ab2a-471a-81d2-bbfc07b38354"
      },
      "execution_count": 4,
      "outputs": [
        {
          "output_type": "stream",
          "name": "stdout",
          "text": [
            "\n",
            "Epoch 1: val_loss improved from inf to 0.04561, saving model to ./model/01-0.0456.hdf5\n",
            "\n",
            "Epoch 2: val_loss improved from 0.04561 to 0.03481, saving model to ./model/02-0.0348.hdf5\n",
            "\n",
            "Epoch 3: val_loss improved from 0.03481 to 0.02827, saving model to ./model/03-0.0283.hdf5\n",
            "\n",
            "Epoch 4: val_loss improved from 0.02827 to 0.02130, saving model to ./model/04-0.0213.hdf5\n",
            "\n",
            "Epoch 5: val_loss improved from 0.02130 to 0.02068, saving model to ./model/05-0.0207.hdf5\n",
            "\n",
            "Epoch 6: val_loss improved from 0.02068 to 0.02025, saving model to ./model/06-0.0202.hdf5\n",
            "\n",
            "Epoch 7: val_loss improved from 0.02025 to 0.01878, saving model to ./model/07-0.0188.hdf5\n",
            "\n",
            "Epoch 8: val_loss did not improve from 0.01878\n",
            "\n",
            "Epoch 9: val_loss improved from 0.01878 to 0.01732, saving model to ./model/09-0.0173.hdf5\n",
            "\n",
            "Epoch 10: val_loss did not improve from 0.01732\n",
            "\n",
            "Epoch 11: val_loss did not improve from 0.01732\n",
            "\n",
            "Epoch 12: val_loss did not improve from 0.01732\n",
            "\n",
            "Epoch 13: val_loss improved from 0.01732 to 0.01686, saving model to ./model/13-0.0169.hdf5\n",
            "\n",
            "Epoch 14: val_loss did not improve from 0.01686\n",
            "\n",
            "Epoch 15: val_loss did not improve from 0.01686\n",
            "\n",
            "Epoch 16: val_loss did not improve from 0.01686\n",
            "\n",
            "Epoch 17: val_loss did not improve from 0.01686\n",
            "\n",
            "Epoch 18: val_loss did not improve from 0.01686\n",
            "\n",
            "Epoch 19: val_loss did not improve from 0.01686\n",
            "\n",
            "Epoch 20: val_loss did not improve from 0.01686\n",
            "\n",
            "Epoch 21: val_loss did not improve from 0.01686\n",
            "\n",
            "Epoch 22: val_loss did not improve from 0.01686\n",
            "\n",
            "Epoch 23: val_loss did not improve from 0.01686\n"
          ]
        }
      ]
    },
    {
      "cell_type": "markdown",
      "source": [
        "테스트 정확도 출력"
      ],
      "metadata": {
        "id": "ZcYIXz4-1LNb"
      }
    },
    {
      "cell_type": "code",
      "source": [
        "print(\"\\n Test Accuracy: %.4f\" % (model.evaluate(X_test, Y_test)[1]))"
      ],
      "metadata": {
        "colab": {
          "base_uri": "https://localhost:8080/"
        },
        "id": "KYXDuatl1NVj",
        "outputId": "09194f70-bd55-454c-e273-9c351cf3fc80"
      },
      "execution_count": 5,
      "outputs": [
        {
          "output_type": "stream",
          "name": "stdout",
          "text": [
            "313/313 [==============================] - 1s 4ms/step - loss: 0.0193 - accuracy: 0.9954\n",
            "\n",
            " Test Accuracy: 0.9954\n"
          ]
        }
      ]
    },
    {
      "cell_type": "markdown",
      "source": [
        "인식 정확도 = 99.54%"
      ],
      "metadata": {
        "id": "kQMmwvRw1Y77"
      }
    },
    {
      "cell_type": "markdown",
      "source": [
        "오차 그래프로 출력"
      ],
      "metadata": {
        "id": "9BLPX48T3Yuz"
      }
    },
    {
      "cell_type": "code",
      "source": [
        "y_vloss = history.history['val_loss']\n",
        "\n",
        "y_loss = history.history['loss']\n",
        "\n",
        "x_len = numpy.arange(len(y_loss))\n",
        "plt.plot(x_len, y_vloss, marker= '.', c=\"red\", label='Testset_loss')\n",
        "plt.plot(x_len,y_loss, marker='.', c=\"blue\", label='Trainset_loss')\n",
        "\n",
        "plt.legend(loc='upper right')\n",
        "plt.grid()\n",
        "plt.xlabel('epoch')\n",
        "plt.ylabel('loss')\n",
        "plt.show()"
      ],
      "metadata": {
        "colab": {
          "base_uri": "https://localhost:8080/",
          "height": 449
        },
        "id": "ZGw8zfra3evs",
        "outputId": "7279dd1b-ebe0-49b8-a202-2a41f040201d"
      },
      "execution_count": 6,
      "outputs": [
        {
          "output_type": "display_data",
          "data": {
            "text/plain": [
              "<Figure size 640x480 with 1 Axes>"
            ],
            "image/png": "[encoded data removed]"
          },
          "metadata": {}
        }
      ]
    }
  ]
}
